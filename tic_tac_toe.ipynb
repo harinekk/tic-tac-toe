{
  "nbformat": 4,
  "nbformat_minor": 0,
  "metadata": {
    "colab": {
      "provenance": [],
      "authorship_tag": "ABX9TyNxz3M7d9DNWCZ1/gX5hrdX",
      "include_colab_link": true
    },
    "kernelspec": {
      "name": "python3",
      "display_name": "Python 3"
    },
    "language_info": {
      "name": "python"
    }
  },
  "cells": [
    {
      "cell_type": "markdown",
      "metadata": {
        "id": "view-in-github",
        "colab_type": "text"
      },
      "source": [
        "<a href=\"https://colab.research.google.com/github/harinekk/tic-tac-toe/blob/main/tic_tac_toe.ipynb\" target=\"_parent\"><img src=\"https://colab.research.google.com/assets/colab-badge.svg\" alt=\"Open In Colab\"/></a>"
      ]
    },
    {
      "cell_type": "code",
      "execution_count": null,
      "metadata": {
        "id": "Uiupr6NwyAqZ"
      },
      "outputs": [],
      "source": [
        "def print_board(board):\n",
        "    print(\"\\n\")\n",
        "    print(f\" {board[0]} | {board[1]} | {board[2]} \")\n",
        "    print(\"---|---|---\")\n",
        "    print(f\" {board[3]} | {board[4]} | {board[5]} \")\n",
        "    print(\"---|---|---\")\n",
        "    print(f\" {board[6]} | {board[7]} | {board[8]} \")\n",
        "    print(\"\\n\")\n",
        "\n",
        "def check_win(board, player):\n",
        "    win_combinations = [\n",
        "        (0, 1, 2), (3, 4, 5), (6, 7, 8), # rows\n",
        "        (0, 3, 6), (1, 4, 7), (2, 5, 8), # columns\n",
        "        (0, 4, 8), (2, 4, 6)             # diagonals\n",
        "    ]\n",
        "    for combo in win_combinations:\n",
        "        if all(board[i] == player for i in combo):\n",
        "            return True\n",
        "    return False\n",
        "\n",
        "def check_draw(board):\n",
        "    return all(space != \" \" for space in board)\n",
        "\n",
        "def tic_tac_toe():\n",
        "    board = [\" \" for _ in range(9)]\n",
        "    current_player = \"X\"\n",
        "    game_running = True\n",
        "\n",
        "    print(\"Welcome to Tic Tac Toe!\")\n",
        "    print_board(board)\n",
        "\n",
        "    while game_running:\n",
        "        move = input(f\"Player {current_player}, choose a position (1-9): \")\n",
        "\n",
        "        if not move.isdigit() or int(move) not in range(1, 10):\n",
        "            print(\"Invalid input. Please choose a number between 1 and 9.\")\n",
        "            continue\n",
        "\n",
        "        move = int(move) - 1\n",
        "\n",
        "        if board[move] != \" \":\n",
        "            print(\"That position is already taken. Try again.\")\n",
        "            continue\n",
        "\n",
        "        board[move] = current_player\n",
        "        print_board(board)\n",
        "\n",
        "        if check_win(board, current_player):\n",
        "            print(f\"🎉 Player {current_player} wins!\")\n",
        "            game_running = False\n",
        "        elif check_draw(board):\n",
        "            print(\"It's a draw!\")\n",
        "            game_running = False\n",
        "        else:\n",
        "            current_player = \"O\" if current_player == \"X\" else \"X\"\n",
        "\n",
        "if __name__ == \"__main__\":\n",
        "    tic_tac_toe()\n"
      ]
    }
  ]
}